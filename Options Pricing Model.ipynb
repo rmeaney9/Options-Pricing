#%%
from scipy.stats import norm
import numpy as np
def bs_inputs(S, K, T, r, sigma):
    d1 = (np.log(S/K)+(r+0.5*sigma**2)*T)/(sigma*np.sqrt(T))
    d2 = d1 - sigma*np.sqrt(T)
    return d1, d2

def call_price(S,K,T,r,sigma,option_type="call"):
    d1, d2 = bs_inputs(S,K,T,r,sigma)
    if option_type == "call":
        return S*norm.cdf(d1)-K*np.exp(-r*T)*norm.cdf(d2)
    elif option_type == "put":
        return K * np.exp(-r*T)*norm.cdf(d2)-S*np.exp(-r*T)*norm.cdf(d1)

def delts(S,K,T,r,sigma,option_type):
    d1, d2 = bs_inputs(S,K,T,r,sigma)
    return norm.cdf(d1) if option_type == "call" else norm.pdf(d1) -1

def gamma(S,K,T,r,sigma):
    d1, d2 = bs_inputs(S,K,T,r,sigma)
    return norm.pdf(d1)/(S*sigma * np.sqrt(T))

def vega(S,K,T,r, sigma):
    d1, d2 = bs_inputs(S,K,T,r,sigma)
    return S*norm.pdf(d1)*np.sqrt(T)

def theta(S, K, T, r, sigma, option_type):
    d1, d2 = bs_inputs(S, K, T, r, sigma)
    term1 = -(S * norm.pdf(d1) * sigma) / (2 * np.sqrt(T))

    if option_type == "call":
        term2 = -r * K * np.exp(-r * T) * norm.cdf(d2)
    elif option_type == "put":
        term2 = r * K * np.exp(-r * T) * norm.cdf(-d2)
    else:
        raise ValueError("option_type must be 'call' or 'put'")

    return term1 + term2
#%%
import matplotlib.pyplot as plt
import numpy as np
import ipywidgets as widgets
from IPython.display import display

def delta(S,K,T,r,sigma,option_type):
     d1, _ = bs_inputs(S,K,T,r,sigma)
     return norm.cdf(d1) if option_type == "call" else norm.cdf(d1)-1

def plot_greeks(S, K, T, r, sigma, option_type):
    S_vals = np.linspace(50, 150, 200)
    deltas = [delta(s, K, T, r, sigma, option_type) for s in S_vals]
    gammas = [gamma(s, K, T, r, sigma) for s in S_vals]
    vegas  = [vega(s, K, T, r, sigma) for s in S_vals]
    thetas = [theta(s, K, T, r, sigma, option_type) for s in S_vals]
    prices = [call_price(s, K, T, r, sigma, option_type) for s in S_vals]
    selected_price = call_price(S, K, T, r, sigma, option_type)

    fig, axs = plt.subplots(2, 3, figsize=(15, 8))
    axs[0,0].plot(S_vals, deltas, color='blue', label='Delta')
    axs[0,1].plot(S_vals, gammas, color='green', label='Gamma')
    axs[0,2].plot(S_vals, vegas, color='orange', label='Vega')
    axs[1,0].plot(S_vals, thetas, color='purple', label='Theta')
    axs[1,1].plot(S_vals, prices, color='black', label='Price')
    axs[1,2].text(0.5, 0.5, f"S = {S:.2f}\nPrice = {selected_price:.4f}", ha='center', va='center', fontsize=12)
    axs[1,2].axis('off')

    axs[0,0].set_ylabel("Delta")
    axs[0,1].set_ylabel("Gamma")
    axs[0,2].set_ylabel("Vega")
    axs[1,0].set_ylabel("Theta")
    axs[1,1].set_ylabel("Price")

    # Set consistent y-axis limits for interpretability
    axs[0,0].set_ylim([-0.1, 1.1])
    axs[0,1].set_ylim([0, max(gammas)*1.1])
    axs[0,2].set_ylim([0, max(vegas)*1.1])
    axs[1,0].set_ylim([min(thetas)*1.1, max(thetas)*1.1])

    for ax in axs.flat:
        if ax is not axs[1,2]:
            ax.axvline(S, color='red', linestyle='--', linewidth=1, label='Current S')
            ax.set_xlabel("Spot Price (S)")
            ax.minorticks_on()
            ax.grid(which='both', linestyle='--', linewidth=0.5)
            ax.legend()

    plt.tight_layout()
    plt.show()

widgets.interact(
    plot_greeks,
    S=widgets.FloatSlider(value=100, min=50, max=150, step=1),
    K=widgets.FloatSlider(value=100, min=50, max=150, step=1),
    T=widgets.FloatSlider(value=1, min=0.1, max=2, step=0.1),
    r=widgets.FloatSlider(value=0.05, min=0.0, max=0.2, step=0.01),
    sigma=widgets.FloatSlider(value=0.2, min=0.05, max=0.5, step=0.01),
    option_type=widgets.Dropdown(options=["call", "put"], value="call")
);